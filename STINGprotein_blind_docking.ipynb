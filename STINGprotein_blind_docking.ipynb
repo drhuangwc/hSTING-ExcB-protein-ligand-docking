{
 "cells": [
  {
   "cell_type": "code",
   "execution_count": null,
   "id": "6efb97c0",
   "metadata": {},
   "outputs": [],
   "source": [
    "## Pre-requirement:\n",
    "\n",
    "# Protein-ligand_blind_docking\n",
    "#\n",
    "import re\n",
    "import os, sys\n",
    "from os import walk\n",
    "from re import search\n",
    "import subprocess\n",
    "import pandas as pd\n",
    "import time\n",
    "import math\n",
    "import numpy\n",
    "\n",
    "workpath=os.getcwd()\n",
    "cbdock_path=workpath+'/DOCKscripts'\n",
    "vine_path=workpath+'/DOCKscripts'\n",
    "CB_DOCK=workpath+\"/DOCKscripts/AutoBlindDock3.pl\"\n",
    "\n",
    "######################################## Main ########################################\n",
    "timestamp=time.strftime(\"%m%d%H%M\",time.localtime(time.time()))\n",
    "starttime=time.time()\n",
    "\n",
    "result_folder='STINGdocking'+timestamp\n",
    "cavitynumber=5\n",
    "numbermodes=7\n",
    "exhaustiveness=64\n",
    "\n",
    "os.chdir(workpath+'/Blind_Docking')\n",
    "proteinfile='PROamberH_hSTING_6NT5.pdb'\n",
    "\n",
    "docking_ligands=['ExcB.sdf']\n",
    "\n",
    "k=0\n",
    "  \n",
    "for d, sdfligand in enumerate (docking_ligands):\n",
    "    starttime1=time.time()\n",
    "    ligandfile=sdfligand \n",
    "    cmd=CB_DOCK+' '+proteinfile+' '+ligandfile+' '+str(cavitynumber)+' '+result_folder+' '+cbdock_path+' '+str(numbermodes)+' '+str(exhaustiveness)\n",
    "    print ('\\n\\n----------\\n',cmd,'\\n----------\\n')\n",
    "    print (\"Docking=> \",k, '(',d, ')',' : ',sdfligand )\n",
    "    print(time.strftime(\"%Y/%m/%d %H:%M:%S\",time.localtime(time.time())),'\\n\\n\\n')\n",
    "    subprocess.run(cmd, shell=True) \n",
    "    k=k+1\n",
    "\n",
    "print(time.strftime(\"%Y/%m/%d %H:%M:%S\",time.localtime(time.time())), '\\n Total = ', (time.time()-starttime1)/60, ' min \\n' )\n"
   ]
  }
 ],
 "metadata": {
  "kernelspec": {
   "display_name": "Python 3 (ipykernel)",
   "language": "python",
   "name": "python3"
  },
  "language_info": {
   "codemirror_mode": {
    "name": "ipython",
    "version": 3
   },
   "file_extension": ".py",
   "mimetype": "text/x-python",
   "name": "python",
   "nbconvert_exporter": "python",
   "pygments_lexer": "ipython3",
   "version": "3.8.10"
  }
 },
 "nbformat": 4,
 "nbformat_minor": 5
}
